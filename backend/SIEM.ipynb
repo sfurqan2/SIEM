{
 "cells": [
  {
   "cell_type": "code",
   "execution_count": null,
   "metadata": {},
   "outputs": [],
   "source": [
    "from winevt import EventLog\n",
    "\n",
    "events = []\n",
    "\n",
    "def handleEvent(action, pContext, event):\n",
    "    evt = {}\n",
    "    if hasattr(event, \"EventData\"):\n",
    "        if hasattr(event.EventData, \"Data\"):\n",
    "            if event.EventData.Data[1].cdata == \"Furqan Saeed\":\n",
    "                evt[\"EventID\"] = event.EventID\n",
    "                for item in event.EventData.Data:\n",
    "                    evt[item[\"Name\"]] = item.cdata\n",
    "                events.append(evt)\n",
    "\n",
    "cb = EventLog.Subscribe(\"Security\", \"Event/System[EventID=4663 or EventID=4660]\", handleEvent)"
   ]
  },
  {
   "cell_type": "code",
   "execution_count": null,
   "metadata": {},
   "outputs": [],
   "source": [
    "import win32evtlog\n",
    "\n",
    "num = 0;\n",
    "hand=win32evtlog.OpenEventLog(None, \"Security\")\n",
    "flags= win32evtlog.EVENTLOG_BACKWARDS_READ|win32evtlog.EVENTLOG_SEQUENTIAL_READ\n",
    "\n",
    "while(1):\n",
    "    records = win32evtlog.ReadEventLog(hand, flags, 0)\n",
    "    # print(dir(records[0]))\n",
    "    if not records:\n",
    "        break;\n",
    "    for record in records:\n",
    "        if record.EventID == 4663:\n",
    "            print(str(record.EventID) + \" \" + record.SourceName + \" \" + str(record.ComputerName) + \" \" + record.TimeWritten.Format())\n",
    "            num = num + 1\n",
    "    \n",
    "win32evtlog.CloseEventLog(hand)\n",
    "print(num)"
   ]
  },
  {
   "cell_type": "code",
   "execution_count": 1,
   "metadata": {},
   "outputs": [
    {
     "name": "stdout",
     "output_type": "stream",
     "text": [
      "C:/Test\\this.txt Updated\n"
     ]
    }
   ],
   "source": [
    "import os\n",
    "import sys, signal\n",
    "import win32file\n",
    "import win32con\n",
    "\n",
    "def signal_handler(signal, frame):\n",
    "    print(\"\\nprogram exiting gracefully\")\n",
    "    sys.exit(0)\n",
    "\n",
    "signal.signal(signal.SIGINT, signal_handler)\n",
    "\n",
    "ACTIONS = {\n",
    "    1: \"Created\",\n",
    "    2: \"Deleted\",\n",
    "    3: \"Updated\",\n",
    "    4: \"Renamed to \",\n",
    "    5: \"\"\n",
    "}\n",
    "FILE_LIST_DIRECTORY = 0x0001\n",
    "\n",
    "path_to_watch = \"C:/Test\"\n",
    "hDir = win32file.CreateFile(\n",
    "    path_to_watch,\n",
    "    FILE_LIST_DIRECTORY,\n",
    "    win32con.FILE_SHARE_READ | win32con.FILE_SHARE_WRITE | win32con.FILE_SHARE_DELETE,\n",
    "    None,\n",
    "    win32con.OPEN_EXISTING,\n",
    "    win32con.FILE_FLAG_BACKUP_SEMANTICS,\n",
    "    None\n",
    ")\n",
    "\n",
    "while 1:\n",
    "    #Right now only directory check is being used and everything else like filecheck is commented\n",
    "    results = win32file.ReadDirectoryChangesW(\n",
    "        hDir,\n",
    "        1024,\n",
    "        True,\n",
    "        win32con.FILE_NOTIFY_CHANGE_FILE_NAME |\n",
    "        win32con.FILE_NOTIFY_CHANGE_DIR_NAME |\n",
    "        # win32con.FILE_NOTIFY_CHANGE_ATTRIBUTES |\n",
    "        # win32con.FILE_NOTIFY_CHANGE_SIZE |\n",
    "        win32con.FILE_NOTIFY_CHANGE_LAST_WRITE,\n",
    "        # win32con.FILE_NOTIFY_CHANGE_SECURITY,\n",
    "        None,\n",
    "        None\n",
    "    )\n",
    "\n",
    "    for action, file in results:\n",
    "        full_filename = os.path.join(path_to_watch, file)\n",
    "        if action == 4:\n",
    "            print(full_filename, ACTIONS.get(action, \"Unknown\"), end='')\n",
    "        else :\n",
    "            print(full_filename,ACTIONS.get(action, \"Unknown\"))"
   ]
  }
 ],
 "metadata": {
  "interpreter": {
   "hash": "71132dbf9f5fe86b16c531c8c6cd60631682401b74ccad15ed1f7c375ef63e90"
  },
  "kernelspec": {
   "display_name": "Python 3.9.4 64-bit",
   "language": "python",
   "name": "python3"
  },
  "language_info": {
   "codemirror_mode": {
    "name": "ipython",
    "version": 3
   },
   "file_extension": ".py",
   "mimetype": "text/x-python",
   "name": "python",
   "nbconvert_exporter": "python",
   "pygments_lexer": "ipython3",
   "version": "3.9.6"
  },
  "orig_nbformat": 4
 },
 "nbformat": 4,
 "nbformat_minor": 2
}
